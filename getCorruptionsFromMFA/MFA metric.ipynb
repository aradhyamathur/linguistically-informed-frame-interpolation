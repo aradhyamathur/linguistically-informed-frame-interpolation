{
 "cells": [
  {
   "cell_type": "code",
   "execution_count": 2,
   "metadata": {},
   "outputs": [
    {
     "name": "stdout",
     "output_type": "stream",
     "text": [
      "Collecting praat-textgrids\n",
      "  Downloading https://files.pythonhosted.org/packages/58/a1/474304ce1c8d391a6c6bf87ed9f9566eab3d594dd1dbb739a79db7720c3e/praat-textgrids-1.3.1.tar.gz\n",
      "Building wheels for collected packages: praat-textgrids\n",
      "  Running setup.py bdist_wheel for praat-textgrids ... \u001b[?25ldone\n",
      "\u001b[?25h  Stored in directory: /home/devanshb_it_17/.cache/pip/wheels/96/d1/17/9af523668ff127df07805e3790c2027d8ace0a22c633c55699\n",
      "Successfully built praat-textgrids\n",
      "Installing collected packages: praat-textgrids\n",
      "Successfully installed praat-textgrids-1.3.1\n"
     ]
    }
   ],
   "source": [
    "# !python3 -m pip install praat-textgrids"
   ]
  },
  {
   "cell_type": "code",
   "execution_count": 17,
   "metadata": {},
   "outputs": [],
   "source": [
    "import glob\n",
    "txtFiles = glob.glob(\"/home/devanshb_it_17/Downloads/pretrain/*/*.txt\")"
   ]
  },
  {
   "cell_type": "code",
   "execution_count": 21,
   "metadata": {},
   "outputs": [],
   "source": [
    "import textgrids\n",
    "import os\n",
    "WordTimeStamps = {}\n",
    "AllOverlaps = []\n",
    "for path in txtFiles:\n",
    "    data = open(path, \"r\")\n",
    "    content = data.readlines()\n",
    "    startind = (content.index(\"WORD START END ASDSCORE\\n\"))\n",
    "    \n",
    "    thisWord = {}\n",
    "    for word in content[startind+1:]:\n",
    "        tokens = word.split(\" \")\n",
    "        word_text = tokens[0]\n",
    "        thisWord[word_text] = [float(tokens[1]), float(tokens[2])]\n",
    "    \n",
    "    \n",
    "    data.close()\n",
    "    pathTokens = path.split('/')\n",
    "    fileName = pathTokens[-1]\n",
    "    pathTokens[-1] = pathTokens[-2]+pathTokens[-1]\n",
    "    pathTokens[-3] = \"outPretrain\"\n",
    "    path = \"/\".join(pathTokens)\n",
    "    txtGridPath = path.replace(\".txt\", \".TextGrid\")\n",
    "    \n",
    "    if not (os.path.isfile(txtGridPath)):\n",
    "        continue\n",
    "    tg = textgrids.TextGrid(txtGridPath)\n",
    "    thisWordTG = {}\n",
    "    overlaps = []\n",
    "    for syll in tg['words']:\n",
    "        # Convert Praat to Unicode in the label\n",
    "        label = syll.text.transcode()\n",
    "        # Print label and syllable duration, CSV-like\n",
    "        GTruth = thisWord.get(label.upper(), \"notExists\")\n",
    "        if GTruth == \"notExists\":\n",
    "            continue\n",
    "        \n",
    "        thisWordTG[label.upper()] = [float(syll.xmin), float(syll.xmax)]\n",
    "        overlaps.append(GetOverlap(thisWordTG[label.upper()], thisWord[label.upper()]))\n",
    "    WordTimeStamps[path] = {\n",
    "        \"Words_txt\": thisWord,\n",
    "        \"Words_txtgrid\": thisWordTG, \n",
    "        \"overlaps\": overlaps\n",
    "    }\n",
    "    AllOverlaps.extend(overlaps)\n",
    "    "
   ]
  },
  {
   "cell_type": "code",
   "execution_count": 3,
   "metadata": {},
   "outputs": [],
   "source": [
    "def GetOverlap(a, b):\n",
    "    overlaps = (a[0] <= b[0] - 0.15 <= a[1] or b[0] - 0.15 <= a[0] <= b[1] + 0.15)\n",
    "    if (overlaps == False):\n",
    "        return 0\n",
    "    if a[1] > (b[1] + 0.15):\n",
    "        return ((b[1] + 0.15 - max(a[0], b[0] - 0.15))/ (b[1] + 0.30 - b[0]))\n",
    "    return ((a[1] - max(a[0], b[0] - 0.15))/ (b[1] + 0.30 - b[0]))\n",
    "#     return (a[1] - a[0]) / (b[1] - b[0])\n",
    "# WordTimeStamps"
   ]
  },
  {
   "cell_type": "code",
   "execution_count": null,
   "metadata": {},
   "outputs": [],
   "source": [
    "def GetOverlap(a, b):\n",
    "    overlaps = (a[0] <= b[0] <= a[1] or b[0] <= a[0] <= b[1])\n",
    "#     if (overlaps == False):\n",
    "#         return 0\n",
    "    if a[1] > b[1]:\n",
    "        return ((b[1] - max(a[0], b[0]))/ (b[1] - b[0]))\n",
    "    return ((a[1] - max(a[0], b[0]))/ (b[1] - b[0]))\n",
    "#     return (a[1] - a[0]) / (b[1] - b[0])\n",
    "# WordTimeStamps"
   ]
  },
  {
   "cell_type": "code",
   "execution_count": 22,
   "metadata": {},
   "outputs": [
    {
     "name": "stdout",
     "output_type": "stream",
     "text": [
      "0.3560564445006163\n",
      "0.4665603067123601\n"
     ]
    }
   ],
   "source": [
    "def Average(lst): \n",
    "    return sum(lst) / len(lst) \n",
    "\n",
    "\n",
    "print(Average(AllOverlaps))\n",
    "\n",
    "print(Average(list(filter(lambda x: x != 0, AllOverlaps))))"
   ]
  },
  {
   "cell_type": "code",
   "execution_count": 13,
   "metadata": {},
   "outputs": [
    {
     "ename": "IndexError",
     "evalue": "list index out of range",
     "output_type": "error",
     "traceback": [
      "\u001b[0;31m---------------------------------------------------------------------------\u001b[0m",
      "\u001b[0;31mIndexError\u001b[0m                                Traceback (most recent call last)",
      "\u001b[0;32m<ipython-input-13-3bc26abcdf54>\u001b[0m in \u001b[0;36m<module>\u001b[0;34m\u001b[0m\n\u001b[0;32m----> 1\u001b[0;31m \u001b[0mAllOverlaps\u001b[0m\u001b[0;34m[\u001b[0m\u001b[0;36m1\u001b[0m\u001b[0;34m]\u001b[0m\u001b[0;34m\u001b[0m\u001b[0;34m\u001b[0m\u001b[0m\n\u001b[0m",
      "\u001b[0;31mIndexError\u001b[0m: list index out of range"
     ]
    }
   ],
   "source": [
    "AllOverlaps[1]"
   ]
  },
  {
   "cell_type": "code",
   "execution_count": 24,
   "metadata": {},
   "outputs": [
    {
     "data": {
      "image/png": "[encoded data removed]",
      "text/plain": [
       "<Figure size 432x288 with 1 Axes>"
      ]
     },
     "metadata": {
      "needs_background": "light"
     },
     "output_type": "display_data"
    },
    {
     "name": "stdout",
     "output_type": "stream",
     "text": [
      "Average Overlap = 0.3560564445006163\n"
     ]
    }
   ],
   "source": [
    "import matplotlib.pyplot as plt\n",
    "import numpy as np\n",
    "import pandas as pd\n",
    "\n",
    "plt.hist(AllOverlaps, bins=20)\n",
    "plt.ylabel('All words')\n",
    "plt.show()\n",
    "\n",
    "print(\"Average Overlap = \" + str(Average(AllOverlaps)))"
   ]
  },
  {
   "cell_type": "code",
   "execution_count": 16,
   "metadata": {},
   "outputs": [
    {
     "data": {
      "image/png": "[encoded data removed]",
      "text/plain": [
       "<Figure size 432x288 with 1 Axes>"
      ]
     },
     "metadata": {
      "needs_background": "light"
     },
     "output_type": "display_data"
    },
    {
     "name": "stdout",
     "output_type": "stream",
     "text": [
      "Average Overlap = 0.9995467587681875\n"
     ]
    }
   ],
   "source": [
    "import matplotlib.pyplot as plt\n",
    "import numpy as np\n",
    "import pandas as pd\n",
    "\n",
    "plt.hist(list(filter(lambda x: x <= 1.5, AllOverlaps)), bins=40)\n",
    "plt.ylabel('All words with overlap > 0')\n",
    "plt.show()\n",
    "\n",
    "print(\"Average Overlap = \" + str(Average(list(filter(lambda x: x <= 1.5, AllOverlaps)))))"
   ]
  },
  {
   "cell_type": "code",
   "execution_count": null,
   "metadata": {},
   "outputs": [],
   "source": []
  }
 ],
 "metadata": {
  "kernelspec": {
   "display_name": "Python 3",
   "language": "python",
   "name": "python3"
  },
  "language_info": {
   "codemirror_mode": {
    "name": "ipython",
    "version": 3
   },
   "file_extension": ".py",
   "mimetype": "text/x-python",
   "name": "python",
   "nbconvert_exporter": "python",
   "pygments_lexer": "ipython3",
   "version": "3.6.9"
  }
 },
 "nbformat": 4,
 "nbformat_minor": 4
}
